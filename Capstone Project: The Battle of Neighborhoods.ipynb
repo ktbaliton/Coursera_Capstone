{
    "cells": [
        {
            "cell_type": "markdown",
            "metadata": {
                "collapsed": true
            },
            "source": "# Capstone Project: The Battle of Neighborhoods\nThis project will leverage the use of Foursquare data in coming up with a solution to an identified problem."
        },
        {
            "cell_type": "markdown",
            "metadata": {},
            "source": "## Introduction\nMetro Manila is the busiest area in the Philippines. Although it doesn't host the beautiful natural landscapes and beaches which Philippines is known for, this location gives a multicultural experience from lavish shopping malls, to historical parks, and to exotic street food that reflects that Philippine culture. Filipinos from the different provinces and even foreigners flock to Metro Manila to find leisure, recreational activities, education, work and many more. With the constant influx of population, no wonder this area has been bustling with different business opportunities, and one of which is the real estate business. The demand for housing has been increasing every year and for many real estate developers, the question in mind is \"where do we develop our next project?\" "
        },
        {
            "cell_type": "markdown",
            "metadata": {},
            "source": "## Problem and Objective\nWith the growing demand in housing in Metro Manila, there is a huge opportunity for real estate developers to capture and build existing and new markets. This case study will help recommend the most suitable locations for development of condominiums around Metro Manila. Real estate can be tailored fit to different market profiles and this study will include a description of each clustered neighborhood that will be identified with the machine learning technique that will be used. "
        },
        {
            "cell_type": "markdown",
            "metadata": {},
            "source": "## Description of the Data\nThe following data will be used to come up with the recommendation for the case study:\n+ Population data from the Philippine Statistics Authority ([PSA](http://openstat.psa.gov.ph/)) indicating the population per city in Metro Manila in 2000, 2010 and 2015 will be used where the population growth rate shall be derived. In addition, 2010 population demographics by sex and age group will be utilized to describe the population.\n+ Latitudes and longitudes of each city will be generated using the Geopy library. \n+ Foursquare API keys will be utilized to call the establishments near the cities that have been identified.\n+ A map will generated through the use of Folium libray to visualize the clustered locations."
        },
        {
            "cell_type": "code",
            "execution_count": null,
            "metadata": {},
            "outputs": [],
            "source": ""
        }
    ],
    "metadata": {
        "kernelspec": {
            "display_name": "Python 3.6",
            "language": "python",
            "name": "python3"
        },
        "language_info": {
            "codemirror_mode": {
                "name": "ipython",
                "version": 3
            },
            "file_extension": ".py",
            "mimetype": "text/x-python",
            "name": "python",
            "nbconvert_exporter": "python",
            "pygments_lexer": "ipython3",
            "version": "3.6.9"
        }
    },
    "nbformat": 4,
    "nbformat_minor": 1
}